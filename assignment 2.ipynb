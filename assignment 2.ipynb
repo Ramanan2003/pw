{
 "cells": [
  {
   "cell_type": "raw",
   "id": "badefeb8-897c-4161-a7ae-3ce2d976e3a3",
   "metadata": {},
   "source": [
    "q1.   we can comment codes by using '#' and using ''' symbol. there are 2 types of comments\n",
    "\n",
    "1. single line comments \n",
    "    in single line comments we use # symbol \n",
    "    \n",
    "2.> multi line comments \n",
    "\n",
    "   for multi line comments we use ''' symbol. \n",
    "   \n",
    "   let us see the example for both the types below.\n",
    "   \n",
    "\n"
   ]
  },
  {
   "cell_type": "code",
   "execution_count": 2,
   "id": "4d258105-0a88-4669-9e6c-d41228d77c88",
   "metadata": {},
   "outputs": [],
   "source": [
    "#hi hello world "
   ]
  },
  {
   "cell_type": "code",
   "execution_count": 3,
   "id": "84887f49-eda5-4f7c-919e-24ee54b812d0",
   "metadata": {},
   "outputs": [
    {
     "data": {
      "text/plain": [
       "' this is a very good \\nday to study . i am studying \\ndata science from physic walla '"
      ]
     },
     "execution_count": 3,
     "metadata": {},
     "output_type": "execute_result"
    }
   ],
   "source": [
    "'''\n",
    "this is a very good \n",
    "day to study . i am studying \n",
    "data science from physic walla\n",
    "'''"
   ]
  },
  {
   "cell_type": "code",
   "execution_count": null,
   "id": "ab7702f3-9ab0-46bb-9ac8-3861a41718c7",
   "metadata": {},
   "outputs": [],
   "source": []
  },
  {
   "cell_type": "markdown",
   "id": "e73859a9-84cf-4681-856e-c5f6f5da4763",
   "metadata": {},
   "source": [
    "\n",
    "\n",
    "\n",
    "\n",
    "q2.> variables is used to store items like numbers, characters, audio, video,etc . let us see how we assign variables in python \n",
    "\n",
    "a=10;\n",
    "\n",
    "this is a variable a . a has value 10. we assign a value to a variable by '=' operator."
   ]
  },
  {
   "cell_type": "code",
   "execution_count": null,
   "id": "71f0484b-4b30-4123-8d68-b643c98143d5",
   "metadata": {},
   "outputs": [],
   "source": []
  },
  {
   "cell_type": "raw",
   "id": "9c01c2d6-7202-440f-910b-e6d62f0f927a",
   "metadata": {},
   "source": [
    "q.3  we can convert one data into another by type casting . let us see an example to understand clearly. \n"
   ]
  },
  {
   "cell_type": "code",
   "execution_count": 4,
   "id": "4410ff9e-dda0-4593-8abf-2a396e397411",
   "metadata": {},
   "outputs": [],
   "source": [
    "a=10\n"
   ]
  },
  {
   "cell_type": "code",
   "execution_count": 5,
   "id": "bf8149ba-47d6-4093-93e3-b1f59b8e7d9a",
   "metadata": {},
   "outputs": [
    {
     "data": {
      "text/plain": [
       "'10'"
      ]
     },
     "execution_count": 5,
     "metadata": {},
     "output_type": "execute_result"
    }
   ],
   "source": [
    "str(a)"
   ]
  },
  {
   "cell_type": "raw",
   "id": "d9751cc2-974a-43bb-b4a7-cf4bf3851be3",
   "metadata": {},
   "source": [
    "here we have converted integer a into string . this is called type casting ."
   ]
  },
  {
   "cell_type": "code",
   "execution_count": null,
   "id": "ac4296dd-3af8-415a-851e-f5442a3c91db",
   "metadata": {},
   "outputs": [],
   "source": []
  },
  {
   "cell_type": "raw",
   "id": "0e42add4-29e2-401c-8e23-ea5b818e0cdc",
   "metadata": {},
   "source": [
    "q.4  "
   ]
  },
  {
   "cell_type": "raw",
   "id": "a9015440-48ed-41c1-b6d6-649d463aea32",
   "metadata": {},
   "source": [
    "the most basic way is to open a command line and type the word python followed by the path to your script file."
   ]
  },
  {
   "cell_type": "code",
   "execution_count": null,
   "id": "941de0b2-88ec-44d3-8930-8cc0808f7902",
   "metadata": {},
   "outputs": [],
   "source": []
  },
  {
   "cell_type": "raw",
   "id": "1479131d-6e45-4e47-9784-4e5b20f13f68",
   "metadata": {},
   "source": [
    "q5> lets see the answer"
   ]
  },
  {
   "cell_type": "code",
   "execution_count": 6,
   "id": "b640c789-0c17-44b0-b4ff-63686a9201a9",
   "metadata": {},
   "outputs": [],
   "source": [
    "my_list=[1,2,3,4,5]"
   ]
  },
  {
   "cell_type": "code",
   "execution_count": 7,
   "id": "3ed81bc0-5428-480b-8a5c-f32836e189d9",
   "metadata": {},
   "outputs": [
    {
     "data": {
      "text/plain": [
       "[2, 3]"
      ]
     },
     "execution_count": 7,
     "metadata": {},
     "output_type": "execute_result"
    }
   ],
   "source": [
    "my_list[1:3]"
   ]
  },
  {
   "cell_type": "raw",
   "id": "1d714abc-16ff-48f9-b309-e7fedc571e25",
   "metadata": {},
   "source": [
    "this is how we get sublist of a list by slicing ."
   ]
  },
  {
   "cell_type": "code",
   "execution_count": null,
   "id": "d265e3fb-dc50-4f63-a24d-a11b996eb6e2",
   "metadata": {},
   "outputs": [],
   "source": []
  },
  {
   "cell_type": "raw",
   "id": "44127bd1-e269-43e1-9284-57238078bb12",
   "metadata": {},
   "source": [
    "q6> complex number is the combination of real numbers and imaginary numbers. let us see some example to understand clearly .\n"
   ]
  },
  {
   "cell_type": "code",
   "execution_count": 8,
   "id": "f760b3d0-0995-49cd-a1dc-c3f249cce3c6",
   "metadata": {},
   "outputs": [],
   "source": [
    "z=4+7j"
   ]
  },
  {
   "cell_type": "code",
   "execution_count": 9,
   "id": "50ef621f-cabb-4515-873e-3e761315fcf7",
   "metadata": {},
   "outputs": [
    {
     "data": {
      "text/plain": [
       "4.0"
      ]
     },
     "execution_count": 9,
     "metadata": {},
     "output_type": "execute_result"
    }
   ],
   "source": [
    "z.real"
   ]
  },
  {
   "cell_type": "code",
   "execution_count": 10,
   "id": "02d9f2fe-723e-41e1-b8b1-017a175a8141",
   "metadata": {},
   "outputs": [
    {
     "data": {
      "text/plain": [
       "7.0"
      ]
     },
     "execution_count": 10,
     "metadata": {},
     "output_type": "execute_result"
    }
   ],
   "source": [
    "z.imag"
   ]
  },
  {
   "cell_type": "code",
   "execution_count": null,
   "id": "195b61e8-68cb-41ad-a7a1-05ee292b1ca9",
   "metadata": {},
   "outputs": [],
   "source": []
  },
  {
   "cell_type": "raw",
   "id": "9497cc3f-76c1-45df-9bd6-38871d56c69c",
   "metadata": {},
   "source": [
    "q7>the correct way to declare a variable named age and assign the value 25 is :"
   ]
  },
  {
   "cell_type": "code",
   "execution_count": 11,
   "id": "3bfacbbb-037f-45d3-958b-4795b370aa2e",
   "metadata": {},
   "outputs": [],
   "source": [
    "age=25"
   ]
  },
  {
   "cell_type": "code",
   "execution_count": null,
   "id": "237f8f05-92e4-4b47-a9e2-076f657816fd",
   "metadata": {},
   "outputs": [],
   "source": []
  },
  {
   "cell_type": "raw",
   "id": "ac2be729-1992-4c17-b2ef-4c72df27bd7c",
   "metadata": {},
   "source": [
    "q8.>"
   ]
  },
  {
   "cell_type": "code",
   "execution_count": 12,
   "id": "6f08152b-6857-494a-8cc7-51efc985b236",
   "metadata": {},
   "outputs": [],
   "source": [
    "\n",
    "\n",
    "price=9.99"
   ]
  },
  {
   "cell_type": "code",
   "execution_count": 13,
   "id": "e7059f69-5257-4e2b-8c4e-348d14d34fef",
   "metadata": {},
   "outputs": [
    {
     "data": {
      "text/plain": [
       "float"
      ]
     },
     "execution_count": 13,
     "metadata": {},
     "output_type": "execute_result"
    }
   ],
   "source": [
    "type(price)"
   ]
  },
  {
   "cell_type": "code",
   "execution_count": null,
   "id": "ddc83bce-38c7-490a-9fed-50feac5544c8",
   "metadata": {},
   "outputs": [],
   "source": []
  },
  {
   "cell_type": "raw",
   "id": "548264d1-b518-4624-b70f-1d837298fa84",
   "metadata": {},
   "source": [
    "q9>"
   ]
  },
  {
   "cell_type": "code",
   "execution_count": 15,
   "id": "09cc92e6-8d37-450b-84d6-38c867ed3707",
   "metadata": {},
   "outputs": [],
   "source": [
    "name=\"ramanan.m\""
   ]
  },
  {
   "cell_type": "code",
   "execution_count": 16,
   "id": "c860e0ea-09a6-44e1-910e-4d4066cd6721",
   "metadata": {},
   "outputs": [
    {
     "name": "stdout",
     "output_type": "stream",
     "text": [
      "ramanan.m\n"
     ]
    }
   ],
   "source": [
    "print(name)"
   ]
  },
  {
   "cell_type": "code",
   "execution_count": null,
   "id": "bf8f8e48-e27a-48e0-8c54-f565b5e1a2f4",
   "metadata": {},
   "outputs": [],
   "source": []
  },
  {
   "cell_type": "raw",
   "id": "ecbafd31-fbdd-41c5-a759-c0ed7b73adfd",
   "metadata": {},
   "source": [
    "q10>"
   ]
  },
  {
   "cell_type": "code",
   "execution_count": 17,
   "id": "353c999f-0a7e-4d69-b4e2-c8c55054f20c",
   "metadata": {},
   "outputs": [],
   "source": [
    "string=\"Hello,World!\""
   ]
  },
  {
   "cell_type": "code",
   "execution_count": 19,
   "id": "a9b09eec-b4e8-40d6-8553-32ace0d60cab",
   "metadata": {},
   "outputs": [
    {
     "data": {
      "text/plain": [
       "'World'"
      ]
     },
     "execution_count": 19,
     "metadata": {},
     "output_type": "execute_result"
    }
   ],
   "source": [
    "string[6:11]"
   ]
  },
  {
   "cell_type": "code",
   "execution_count": null,
   "id": "99df56c0-5966-4317-96b6-e2d125b86ab6",
   "metadata": {},
   "outputs": [],
   "source": []
  },
  {
   "cell_type": "raw",
   "id": "ea0996b2-85c5-4f2d-83f8-1933defbfb45",
   "metadata": {},
   "source": [
    "q11>"
   ]
  },
  {
   "cell_type": "code",
   "execution_count": 24,
   "id": "964944ea-0654-44e1-9d1a-c524be57c2a4",
   "metadata": {},
   "outputs": [
    {
     "name": "stdout",
     "output_type": "stream",
     "text": [
      "True\n"
     ]
    }
   ],
   "source": [
    "is_student=True\n",
    "print(is_student)"
   ]
  },
  {
   "cell_type": "code",
   "execution_count": null,
   "id": "39019d0a-76c4-48c4-af73-0fc73505f129",
   "metadata": {},
   "outputs": [],
   "source": []
  }
 ],
 "metadata": {
  "kernelspec": {
   "display_name": "Python 3 (ipykernel)",
   "language": "python",
   "name": "python3"
  },
  "language_info": {
   "codemirror_mode": {
    "name": "ipython",
    "version": 3
   },
   "file_extension": ".py",
   "mimetype": "text/x-python",
   "name": "python",
   "nbconvert_exporter": "python",
   "pygments_lexer": "ipython3",
   "version": "3.10.8"
  }
 },
 "nbformat": 4,
 "nbformat_minor": 5
}

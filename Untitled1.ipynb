{
 "cells": [
  {
   "cell_type": "code",
   "execution_count": 2,
   "id": "b455c3cb-a27b-44a4-9c51-1e4935c6b74b",
   "metadata": {},
   "outputs": [],
   "source": [
    "#q1\n",
    "\n"
   ]
  },
  {
   "cell_type": "code",
   "execution_count": 4,
   "id": "c1cb8c29-efcb-42e6-85a7-eb750845af91",
   "metadata": {},
   "outputs": [],
   "source": [
    "#1\n",
    "a=\"ramanan\""
   ]
  },
  {
   "cell_type": "code",
   "execution_count": 5,
   "id": "b0edbc03-d12f-4980-b386-2b4eeeedc2c2",
   "metadata": {},
   "outputs": [],
   "source": [
    "#<2>\n",
    "b=[1,2,3,4]\n"
   ]
  },
  {
   "cell_type": "code",
   "execution_count": 6,
   "id": "6a5f4906-190e-4e24-b17b-deb05ce437c2",
   "metadata": {},
   "outputs": [],
   "source": [
    "#3\n",
    "c=12.34566"
   ]
  },
  {
   "cell_type": "code",
   "execution_count": 7,
   "id": "d71f2251-c947-4a94-8f72-adc6f40510f2",
   "metadata": {},
   "outputs": [],
   "source": [
    "#4 \n",
    "d=(1,2,4)\n",
    "\n"
   ]
  },
  {
   "cell_type": "code",
   "execution_count": 24,
   "id": "f983bcb4-d2e7-486f-9e0f-9b679b577495",
   "metadata": {},
   "outputs": [],
   "source": [
    "#q2\n",
    "var1=''"
   ]
  },
  {
   "cell_type": "code",
   "execution_count": 25,
   "id": "1aa1d4b5-c445-4fde-89a1-e811cbcb1172",
   "metadata": {},
   "outputs": [],
   "source": [
    "type(var1)"
   ]
  },
  {
   "cell_type": "code",
   "execution_count": 22,
   "id": "c4fd4630-08db-4e2a-a3a8-c66abcccb465",
   "metadata": {},
   "outputs": [],
   "source": [
    "#2\n",
    "var3=[\"DS\",\"ML\",\"Python\"]"
   ]
  },
  {
   "cell_type": "code",
   "execution_count": 23,
   "id": "42ebe7fd-9b26-44d1-8050-118a683dadce",
   "metadata": {},
   "outputs": [],
   "source": [
    "type(var3)\n"
   ]
  },
  {
   "cell_type": "code",
   "execution_count": 20,
   "id": "eb32bdec-a0e4-4e41-85a9-38796afe1d01",
   "metadata": {},
   "outputs": [],
   "source": [
    "#3\n",
    "var2='[DS,ML,Python]'"
   ]
  },
  {
   "cell_type": "code",
   "execution_count": 21,
   "id": "f8c6c3c5-430b-4e68-af6e-efe63c31ddb0",
   "metadata": {},
   "outputs": [],
   "source": [
    "type(var2)"
   ]
  },
  {
   "cell_type": "code",
   "execution_count": 15,
   "id": "0fc6bd8f-ae49-40c1-947a-5e00b53d1545",
   "metadata": {},
   "outputs": [],
   "source": [
    "#4\n",
    "var4=1"
   ]
  },
  {
   "cell_type": "code",
   "execution_count": 16,
   "id": "66beb1aa-63d3-400e-a06e-0de194edd1a8",
   "metadata": {},
   "outputs": [],
   "source": [
    "type(var4)"
   ]
  },
  {
   "cell_type": "code",
   "execution_count": 26,
   "id": "48b70ff4-bfd3-4fc0-80e8-f9a0d9c66991",
   "metadata": {},
   "outputs": [],
   "source": [
    "#q3\n",
    "a=2/4"
   ]
  },
  {
   "cell_type": "code",
   "execution_count": 27,
   "id": "97603a61-35cb-42ab-b4b9-36bd6b1a3406",
   "metadata": {},
   "outputs": [],
   "source": [
    "a"
   ]
  },
  {
   "cell_type": "code",
   "execution_count": 28,
   "id": "e4de224d-76fc-4ef9-9ff7-038058b13841",
   "metadata": {},
   "outputs": [],
   "source": [
    "#2\n",
    "a=6%2\n",
    "a"
   ]
  },
  {
   "cell_type": "code",
   "execution_count": 29,
   "id": "6012ca8c-2724-4dd7-9f74-c97ebdedd235",
   "metadata": {},
   "outputs": [],
   "source": [
    "#3\n",
    "a=6//3\n",
    "a"
   ]
  },
  {
   "cell_type": "code",
   "execution_count": 30,
   "id": "b4703d4d-9d1f-478f-8fac-80399ff79413",
   "metadata": {},
   "outputs": [],
   "source": [
    "#4\n",
    "a=6**3\n",
    "a"
   ]
  },
  {
   "cell_type": "code",
   "execution_count": 42,
   "id": "d29031eb-dd02-4f9e-8ce7-af89d6a49e15",
   "metadata": {},
   "outputs": [],
   "source": [
    "#q4\n",
    "arr=[1,2,3,4,5,6,7,8,9,10]\n",
    "for x in range(len(arr)):\n",
    "    print (arr[x]);\n",
    "    type(arr[x])\n",
    "    "
   ]
  },
  {
   "cell_type": "code",
   "execution_count": 43,
   "id": "9284ad20-da74-421e-8c0d-8222b842b8a4",
   "metadata": {},
   "outputs": [],
   "source": [
    "type(arr[x])"
   ]
  },
  {
   "cell_type": "code",
   "execution_count": null,
   "id": "0bc54802-c6a3-434d-883a-0abac4d8c0e9",
   "metadata": {},
   "outputs": [],
   "source": [
    "#q5\n",
    "a=int(input(\"enter a number\"))\n",
    "b=int(input(\"emter a number\"))\n",
    "while a>b:\n",
    "    res=0\n",
    "    if a%b==0:\n",
    "        print(\"A is divisible by B\")\n",
    "        res+=a/b\n",
    "    else:\n",
    "        print(\"A is not divisible by B\")\n",
    "              \n",
    "print(\"the operation is done in\",res,\"ways\")\n",
    "    "
   ]
  },
  {
   "cell_type": "code",
   "execution_count": null,
   "id": "582187bd-3c4e-4541-acad-7b6ed34fd9f6",
   "metadata": {
    "tags": []
   },
   "outputs": [],
   "source": [
    "\n",
    "#q6\n",
    "l=[1,2,3,4,5,6]\n",
    "for i in l:\n",
    "    if l[i]%3==0:\n",
    "        print(\"this is divisible by 3\")\n",
    "    else \n",
    "    print(\"this is not divisible by 3)\n",
    "        "
   ]
  },
  {
   "cell_type": "code",
   "execution_count": null,
   "id": "ec9f5e99-bb00-4d1a-a842-da4d088cf28d",
   "metadata": {},
   "outputs": [],
   "source": [
    "\n",
    "#7 \n",
    "l=[1,2,3,4]\n",
    "l[0]=3\n",
    "l \n",
    "#it is mutable\n",
    "\n"
   ]
  },
  {
   "cell_type": "code",
   "execution_count": null,
   "id": "3497d9ee-1ff9-418e-8246-3656b789c207",
   "metadata": {},
   "outputs": [],
   "source": [
    "s=\"ramanan\"\n",
    "s[2]='r'\n",
    "s #error . it is immutable"
   ]
  }
 ],
 "metadata": {
  "kernelspec": {
   "display_name": "Python 3 (ipykernel)",
   "language": "python",
   "name": "python3"
  },
  "language_info": {
   "codemirror_mode": {
    "name": "ipython",
    "version": 3
   },
   "file_extension": ".py",
   "mimetype": "text/x-python",
   "name": "python",
   "nbconvert_exporter": "python",
   "pygments_lexer": "ipython3",
   "version": "3.10.8"
  }
 },
 "nbformat": 4,
 "nbformat_minor": 5
}
